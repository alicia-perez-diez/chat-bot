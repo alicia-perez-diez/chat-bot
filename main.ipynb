{
 "cells": [
  {
   "cell_type": "code",
   "execution_count": 1,
   "metadata": {},
   "outputs": [
    {
     "name": "stdout",
     "output_type": "stream",
     "text": [
      "Requirement already satisfied: requests in c:\\users\\germa\\anaconda3\\lib\\site-packages (2.31.0)\n",
      "Requirement already satisfied: flask in c:\\users\\germa\\anaconda3\\lib\\site-packages (2.2.5)\n",
      "Collecting openai\n",
      "  Downloading openai-1.30.3-py3-none-any.whl.metadata (21 kB)\n",
      "Requirement already satisfied: charset-normalizer<4,>=2 in c:\\users\\germa\\anaconda3\\lib\\site-packages (from requests) (2.0.4)\n",
      "Requirement already satisfied: idna<4,>=2.5 in c:\\users\\germa\\anaconda3\\lib\\site-packages (from requests) (3.4)\n",
      "Requirement already satisfied: urllib3<3,>=1.21.1 in c:\\users\\germa\\anaconda3\\lib\\site-packages (from requests) (2.0.7)\n",
      "Requirement already satisfied: certifi>=2017.4.17 in c:\\users\\germa\\anaconda3\\lib\\site-packages (from requests) (2024.2.2)\n",
      "Requirement already satisfied: Werkzeug>=2.2.2 in c:\\users\\germa\\anaconda3\\lib\\site-packages (from flask) (2.2.3)\n",
      "Requirement already satisfied: Jinja2>=3.0 in c:\\users\\germa\\anaconda3\\lib\\site-packages (from flask) (3.1.3)\n",
      "Requirement already satisfied: itsdangerous>=2.0 in c:\\users\\germa\\anaconda3\\lib\\site-packages (from flask) (2.0.1)\n",
      "Requirement already satisfied: click>=8.0 in c:\\users\\germa\\anaconda3\\lib\\site-packages (from flask) (8.1.7)\n",
      "Requirement already satisfied: anyio<5,>=3.5.0 in c:\\users\\germa\\anaconda3\\lib\\site-packages (from openai) (4.2.0)\n",
      "Requirement already satisfied: distro<2,>=1.7.0 in c:\\users\\germa\\anaconda3\\lib\\site-packages (from openai) (1.8.0)\n",
      "Requirement already satisfied: httpx<1,>=0.23.0 in c:\\users\\germa\\anaconda3\\lib\\site-packages (from openai) (0.26.0)\n",
      "Requirement already satisfied: pydantic<3,>=1.9.0 in c:\\users\\germa\\anaconda3\\lib\\site-packages (from openai) (1.10.12)\n",
      "Requirement already satisfied: sniffio in c:\\users\\germa\\anaconda3\\lib\\site-packages (from openai) (1.3.0)\n",
      "Requirement already satisfied: tqdm>4 in c:\\users\\germa\\anaconda3\\lib\\site-packages (from openai) (4.65.0)\n",
      "Requirement already satisfied: typing-extensions<5,>=4.7 in c:\\users\\germa\\anaconda3\\lib\\site-packages (from openai) (4.9.0)\n",
      "Requirement already satisfied: colorama in c:\\users\\germa\\anaconda3\\lib\\site-packages (from click>=8.0->flask) (0.4.6)\n",
      "Requirement already satisfied: httpcore==1.* in c:\\users\\germa\\anaconda3\\lib\\site-packages (from httpx<1,>=0.23.0->openai) (1.0.2)\n",
      "Requirement already satisfied: h11<0.15,>=0.13 in c:\\users\\germa\\anaconda3\\lib\\site-packages (from httpcore==1.*->httpx<1,>=0.23.0->openai) (0.14.0)\n",
      "Requirement already satisfied: MarkupSafe>=2.0 in c:\\users\\germa\\anaconda3\\lib\\site-packages (from Jinja2>=3.0->flask) (2.1.3)\n",
      "Downloading openai-1.30.3-py3-none-any.whl (320 kB)\n",
      "   ---------------------------------------- 0.0/320.6 kB ? eta -:--:--\n",
      "   ----- ---------------------------------- 41.0/320.6 kB 2.0 MB/s eta 0:00:01\n",
      "   ---------------------------------------  317.4/320.6 kB 5.0 MB/s eta 0:00:01\n",
      "   ---------------------------------------- 320.6/320.6 kB 4.0 MB/s eta 0:00:00\n",
      "Installing collected packages: openai\n",
      "Successfully installed openai-1.30.3\n"
     ]
    }
   ],
   "source": [
    "!pip install requests flask openai"
   ]
  },
  {
   "cell_type": "code",
   "execution_count": 18,
   "metadata": {},
   "outputs": [
    {
     "name": "stdout",
     "output_type": "stream",
     "text": [
      "Collecting openai==0.8.0\n",
      "  Downloading openai-0.8.0.tar.gz (147 kB)\n",
      "     ---------------------------------------- 0.0/147.6 kB ? eta -:--:--\n",
      "     ------- ----------------------------- 30.7/147.6 kB 660.6 kB/s eta 0:00:01\n",
      "     ----------------------------- -------- 112.6/147.6 kB 1.3 MB/s eta 0:00:01\n",
      "     -------------------------------------- 147.6/147.6 kB 1.5 MB/s eta 0:00:00\n",
      "  Preparing metadata (setup.py): started\n",
      "  Preparing metadata (setup.py): finished with status 'done'\n",
      "Requirement already satisfied: requests>=2.20 in c:\\users\\germa\\anaconda3\\lib\\site-packages (from openai==0.8.0) (2.31.0)\n",
      "Requirement already satisfied: tqdm in c:\\users\\germa\\anaconda3\\lib\\site-packages (from openai==0.8.0) (4.65.0)\n",
      "Requirement already satisfied: charset-normalizer<4,>=2 in c:\\users\\germa\\anaconda3\\lib\\site-packages (from requests>=2.20->openai==0.8.0) (2.0.4)\n",
      "Requirement already satisfied: idna<4,>=2.5 in c:\\users\\germa\\anaconda3\\lib\\site-packages (from requests>=2.20->openai==0.8.0) (3.4)\n",
      "Requirement already satisfied: urllib3<3,>=1.21.1 in c:\\users\\germa\\anaconda3\\lib\\site-packages (from requests>=2.20->openai==0.8.0) (2.0.7)\n",
      "Requirement already satisfied: certifi>=2017.4.17 in c:\\users\\germa\\anaconda3\\lib\\site-packages (from requests>=2.20->openai==0.8.0) (2024.2.2)\n",
      "Requirement already satisfied: colorama in c:\\users\\germa\\anaconda3\\lib\\site-packages (from tqdm->openai==0.8.0) (0.4.6)\n",
      "Building wheels for collected packages: openai\n",
      "  Building wheel for openai (setup.py): started\n",
      "  Building wheel for openai (setup.py): finished with status 'done'\n",
      "  Created wheel for openai: filename=openai-0.8.0-py3-none-any.whl size=158513 sha256=d1e4eb882bc318884f604035ac556a827daa465a10510701b814187df9b39a7b\n",
      "  Stored in directory: c:\\users\\germa\\appdata\\local\\pip\\cache\\wheels\\b0\\ee\\e4\\1c655b5981f8b055b6e431155eb8f8aa199de866c60aaba378\n",
      "Successfully built openai\n",
      "Installing collected packages: openai\n",
      "  Attempting uninstall: openai\n",
      "    Found existing installation: openai 0.25.0\n",
      "    Uninstalling openai-0.25.0:\n",
      "      Successfully uninstalled openai-0.25.0\n",
      "Successfully installed openai-0.8.0\n"
     ]
    }
   ],
   "source": [
    "!pip install openai==0.8.0"
   ]
  },
  {
   "cell_type": "code",
   "execution_count": 1,
   "metadata": {},
   "outputs": [],
   "source": [
    "import requests"
   ]
  },
  {
   "cell_type": "code",
   "execution_count": 2,
   "metadata": {},
   "outputs": [],
   "source": [
    "from dotenv import load_dotenv\n",
    "import os"
   ]
  },
  {
   "cell_type": "code",
   "execution_count": 3,
   "metadata": {},
   "outputs": [
    {
     "data": {
      "text/plain": [
       "True"
      ]
     },
     "execution_count": 3,
     "metadata": {},
     "output_type": "execute_result"
    }
   ],
   "source": [
    "load_dotenv('.env')"
   ]
  },
  {
   "cell_type": "code",
   "execution_count": 4,
   "metadata": {},
   "outputs": [],
   "source": [
    "bart_api_key = os.getenv('bart_api_key')"
   ]
  },
  {
   "cell_type": "code",
   "execution_count": 5,
   "metadata": {},
   "outputs": [],
   "source": [
    "# Configuración de las credenciales de la API de NewsAPI\n",
    "news_api_key = os.getenv('news_api_key')\n",
    "def get_news_articles(query, api_key=news_api_key):\n",
    "    url = f\"https://newsapi.org/v2/everything?q={query}&apiKey={api_key}\"\n",
    "    response = requests.get(url)\n",
    "    articles = response.json().get('articles', [])\n",
    "    return [article['content'] for article in articles if article['content']]"
   ]
  },
  {
   "cell_type": "code",
   "execution_count": 6,
   "metadata": {},
   "outputs": [],
   "source": [
    "articulo = get_news_articles(\"apple\")"
   ]
  },
  {
   "cell_type": "code",
   "execution_count": 7,
   "metadata": {},
   "outputs": [
    {
     "data": {
      "text/plain": [
       "['[Removed]',\n",
       " \"If you click 'Accept all', we and our partners, including 238 who are part of the IAB Transparency &amp; Consent Framework, will also store and/or access information on a device (in other words, use … [+678 chars]\",\n",
       " '[Removed]',\n",
       " \"If you click 'Accept all', we and our partners, including 238 who are part of the IAB Transparency &amp; Consent Framework, will also store and/or access information on a device (in other words, use … [+678 chars]\",\n",
       " 'Apple doesnt understand why you use technology\\r\\nApple doesnt understand why you use technology\\r\\n / What, exactly, did Apple crush?\\r\\nByElizabeth Lopatto, a reporter who writes about tech, money, and h… [+4139 chars]',\n",
       " \"If you click 'Accept all', we and our partners, including 238 who are part of the IAB Transparency &amp; Consent Framework, will also store and/or access information on a device (in other words, use … [+678 chars]\",\n",
       " '[Removed]',\n",
       " 'its no secret that Apple has mastered the art of smoke and mirrors. When the company debuted the new iPad Pro, the flashy livestreamed keynoteand the hands-on event for media afterwardmade it seem as… [+2831 chars]',\n",
       " \"If you click 'Accept all', we and our partners, including 238 who are part of the IAB Transparency &amp; Consent Framework, will also store and/or access information on a device (in other words, use … [+678 chars]\",\n",
       " '[Removed]',\n",
       " 'Apple’s latest high-end tablet is a marvel of hardware design still in need of the software and accessories to really make it sing. But wow is it fun to use. The new iPad Pro is a genuine achievement… [+11228 chars]',\n",
       " \"If you click 'Accept all', we and our partners, including 237 who are part of the IAB Transparency &amp; Consent Framework, will also store and/or access information on a device (in other words, use … [+678 chars]\",\n",
       " '[Removed]',\n",
       " 'Apples apps and services usually work brilliantly well on Apple devices, but what about when youre on a computer that isnt running macOS? While using Apples apps on Windows isnt ideal, its significan… [+4630 chars]',\n",
       " 'Tech giant Apple is poised to see its first-ever strike on its retail operations after staff at a store in Maryland voted to authorize a strike against the company. \\r\\nMembers of the International Ass… [+1373 chars]',\n",
       " 'Every now and then a corporation is at least a bit funny when going about their late-stage capitalism. For instance, Samsung has released an absolutely perfect diss-ad response to Apples recent crush… [+2251 chars]',\n",
       " 'Apple plans to use M2 Ultra chips in the cloud for AI\\r\\nApple plans to use M2 Ultra chips in the cloud for AI\\r\\n / The company reportedly plans to divert complex AI queries to servers and keep simple t… [+1731 chars]',\n",
       " '[Removed]',\n",
       " \"If you click 'Accept all', we and our partners, including 238 who are part of the IAB Transparency &amp; Consent Framework, will also store and/or access information on a device (in other words, use … [+678 chars]\",\n",
       " '[Removed]',\n",
       " \"If you click 'Accept all', we and our partners, including 238 who are part of the IAB Transparency &amp; Consent Framework, will also store and/or access information on a device (in other words, use … [+678 chars]\",\n",
       " \"If you click 'Accept all', we and our partners, including 238 who are part of the IAB Transparency &amp; Consent Framework, will also store and/or access information on a device (in other words, use … [+678 chars]\",\n",
       " \"If you click 'Accept all', we and our partners, including 238 who are part of the IAB Transparency &amp; Consent Framework, will also store and/or access information on a device (in other words, use … [+678 chars]\",\n",
       " \"If you click 'Accept all', we and our partners, including 238 who are part of the IAB Transparency &amp; Consent Framework, will also store and/or access information on a device (in other words, use … [+678 chars]\",\n",
       " \"If you click 'Accept all', we and our partners, including 238 who are part of the IAB Transparency &amp; Consent Framework, will also store and/or access information on a device (in other words, use … [+678 chars]\",\n",
       " 'The five-year journey to make an adventure game out of ink and paper\\r\\nThe five-year journey to make an adventure game out of ink and paper\\r\\n / The Collage Atlas was a labor of love for designer John … [+5330 chars]',\n",
       " 'Apples time travel comedy Time Bandits starts streaming in July\\r\\nApples time travel comedy Time Bandits starts streaming in July\\r\\n / Its an adaptation of a 1981 film directed by Terry Gilliam.\\r\\nByAnd… [+1979 chars]',\n",
       " '[Removed]',\n",
       " \"If you click 'Accept all', we and our partners, including 238 who are part of the IAB Transparency &amp; Consent Framework, will also store and/or access information on a device (in other words, use … [+678 chars]\",\n",
       " \"If you click 'Accept all', we and our partners, including 238 who are part of the IAB Transparency &amp; Consent Framework, will also store and/or access information on a device (in other words, use … [+678 chars]\",\n",
       " 'How to stop being reminded of memories you dont want to be reminded of\\r\\nHow to stop being reminded of memories you dont want to be reminded of\\r\\n / Google, Apple, Microsoft, and Facebook all have memo… [+6733 chars]',\n",
       " 'This Qi2 3-in-1 charger has the best price weve seen from any brand\\r\\nThis Qi2 3-in-1 charger has the best price weve seen from any brand\\r\\n / Plus, you can keep summer mosquitos at bay with a discount… [+3970 chars]',\n",
       " \"If you click 'Accept all', we and our partners, including 238 who are part of the IAB Transparency &amp; Consent Framework, will also store and/or access information on a device (in other words, use … [+678 chars]\",\n",
       " \"If you click 'Accept all', we and our partners, including 238 who are part of the IAB Transparency &amp; Consent Framework, will also store and/or access information on a device (in other words, use … [+678 chars]\",\n",
       " '[Removed]',\n",
       " 'You can upgrade the iPad Pros processor now, too\\r\\nYou can upgrade the iPad Pros processor now, too\\r\\n / At least you get a little more for those heinous storage upgrade prices.\\r\\nByWes Davis, a weekend… [+2250 chars]',\n",
       " 'Youve been there, sitting in the passenger seat of a car, trying to focus intently on your phone as a way to ignore all your karaoke-belting seatmates. And then theres a lurch, or a buildup of motion… [+2981 chars]',\n",
       " 'The iPad Air is an excellent iPad — and that’s all. | Photo: David Pierce / The Verge\\r\\n\\n \\n\\n\\n The iPad Pro is a beast. The two-year-old iPad is more compelling than ever. So what is the Air even for a… [+6715 chars]',\n",
       " 'Lets face it: while some of the best headphones weve tested sound incredible, they dont come cheap. Believe it or not, there are plenty of affordable options out there that sound good and dont requir… [+247 chars]',\n",
       " 'What if Marvel Studios, Disney+, Industrial Light &amp; Magic, and Apple all came together for a single project? Well, we dont have to ask What If? Its actually happening. Its called What If? An Imme… [+1535 chars]',\n",
       " 'Mays already stacking up to be an intense month for big tech companies, and guess whos starting us off with a bang? Apple is planning something big at its upcoming Let Loose event on May 7. But what … [+1890 chars]',\n",
       " 'Apple is reportedly holding discussions with OpenAI about using the startups AI technology to power some features coming to the iPhone later this year, Bloomberg reported on Friday. This comes roughl… [+1931 chars]',\n",
       " 'Microsoft Edge and Google Chrome are already being drowned in new AI features, so we suppose it was inevitable that Apple would also try to shove some AI activities into its default browser. With App… [+2696 chars]',\n",
       " '[Removed]',\n",
       " 'People sure are pressed about Apples crushing iPad commercial\\r\\nPeople sure are pressed about Apples crushing iPad commercial\\r\\n / Apple did not read the room on this one.\\r\\nByAlex Cranz, deputy editor … [+2476 chars]',\n",
       " \"If you click 'Accept all', we and our partners, including 238 who are part of the IAB Transparency &amp; Consent Framework, will also store and/or access information on a device (in other words, use … [+678 chars]\",\n",
       " '[Removed]',\n",
       " '[Removed]',\n",
       " \"If you click 'Accept all', we and our partners, including 238 who are part of the IAB Transparency &amp; Consent Framework, will also store and/or access information on a device (in other words, use … [+678 chars]\",\n",
       " \"If you click 'Accept all', we and our partners, including 238 who are part of the IAB Transparency &amp; Consent Framework, will also store and/or access information on a device (in other words, use … [+678 chars]\",\n",
       " '[Removed]',\n",
       " \"If you click 'Accept all', we and our partners, including 238 who are part of the IAB Transparency &amp; Consent Framework, will also store and/or access information on a device (in other words, use … [+678 chars]\",\n",
       " \"If you click 'Accept all', we and our partners, including 238 who are part of the IAB Transparency &amp; Consent Framework, will also store and/or access information on a device (in other words, use … [+678 chars]\",\n",
       " 'Apples AirPods Max are receiving a rare $100 discount at Amazon\\r\\nApples AirPods Max are receiving a rare $100 discount at Amazon\\r\\n / You can currently save $100 on Apples luxe noise-canceling headpho… [+1625 chars]',\n",
       " '[Removed]',\n",
       " '[Removed]',\n",
       " 'Theres not much to the new Beats Solo 4 headphones at first glance. Starkly missing in this $200 package is any form of noise canceling or transparency mode. Theres no auto pause feature or water-res… [+3450 chars]',\n",
       " 'Photo: Allison Johnson / The Verge\\r\\n\\n \\n\\n The Surface Laptop for non-business types is here, and Microsoft hopes that after four years of Apple Silicon, its new Arm-based “AI PC” has a shot at MacBook… [+1745 chars]',\n",
       " 'Apple today released macOS Sonoma 14.5, the fifth update to the \\u200cmacOS Sonoma\\u200c operating system that launched last September. \\u200cmacOS Sonoma\\u200c 14.5 comes more than two months after the launch of macOS … [+1154 chars]',\n",
       " \"If you click 'Accept all', we and our partners, including 238 who are part of the IAB Transparency &amp; Consent Framework, will also store and/or access information on a device (in other words, use … [+678 chars]\",\n",
       " \"If you click 'Accept all', we and our partners, including 238 who are part of the IAB Transparency &amp; Consent Framework, will also store and/or access information on a device (in other words, use … [+678 chars]\",\n",
       " \"If you click 'Accept all', we and our partners, including 238 who are part of the IAB Transparency &amp; Consent Framework, will also store and/or access information on a device (in other words, use … [+678 chars]\",\n",
       " '[Removed]',\n",
       " '[Removed]',\n",
       " 'Samsung Galaxy Watch 7 Ultra leaks show a supersized squircle for your wrist\\r\\nSamsung Galaxy Watch 7 Ultra leaks show a supersized squircle for your wrist\\r\\n / The leaked pics of this Ultra Samsung Ga… [+1402 chars]',\n",
       " 'Apple today released tvOS 17.5, the fifth update update to the tvOS 17 operating system that came out last September. tvOS 17.5 comes two months after the release of tvOS 17.4.\\r\\ntvOS 17.5 can be down… [+552 chars]',\n",
       " 'Matter\\xa0is now racing ahead, but the platforms are holding it back\\r\\nMatter\\xa0is now racing ahead, but the platforms are holding it back\\r\\n / The new Matter 1.3 spec finally brings energy management to th… [+11057 chars]',\n",
       " 'With the launch of the refreshed iPad Air and iPad Pro models, Apple introduced a new \"Apple Pencil Pro.\" No \\u200cApple Pencil\\u200c options have been discontinued, which means there are now four total Apple … [+1277 chars]',\n",
       " 'The latest iPads are strange beasts. Beyond the cheaper base iPad, you have the iPad Air and the iPad Pro. Theyre both at the top of their game. Theyre more powerful than ever, and the more expensive… [+1983 chars]',\n",
       " 'Apple today dropped the price of the MLS Season Pass for the rest of the 2024 Major League Soccer season, which is about a third of the way through.\\r\\nMLS in the U.S. now costs $69, down from $99 when… [+552 chars]',\n",
       " '[Removed]',\n",
       " 'Its true that before the pandemic is a hazy time, an era in which its difficult to pin down chronology with any certainty. So while the rumors of Sonos headphones definitely began before the pandemic… [+2286 chars]',\n",
       " 'OpenAI is gearing up for a much-anticipated spring update to GPT-4 and ChatGPT on Monday, and multiple reports are pointing to voice as the next frontier for Sam Altmans AI company. On Fridays episod… [+2701 chars]',\n",
       " \"Apple's next Apple Watch activity challenge will launch on Tuesday, May 21 to celebrate World Meditation Day. This marks the first time that Apple has hosted an activity challenge for the occasion.\\r\\n… [+459 chars]\",\n",
       " 'Apple\\'s \"Let Loose\" event this week went off largely as expected, headlined by new iPad Pro and iPad Air models.\\r\\nThe updated higher-end devices are complemented by some new accessories, while Apple … [+3396 chars]',\n",
       " 'In his Power On newsletter today, Bloomberg\\'s Mark Gurman outlined some of the new products he expects Apple to announce at its \"Let Loose\" event on May 7.\\r\\nFirst, Gurman now believes there is a \"str… [+1070 chars]',\n",
       " 'In addition to new features like a squeeze gesture, gyroscope, and Find My support, it turns out that the Apple Pencil Pro has a fun packaging twist.\\r\\nAs noted by Arun Maini and Nikias Molina, Apple … [+1194 chars]',\n",
       " \"Enlarge/ The Chevrolet Blazer was pulled from sale almost immediately after our first drive in December. Now it's back on salewith a price cut.\\r\\n11\\r\\nGeneral Motors appears to have solved the problem … [+5097 chars]\",\n",
       " 'Microsoft smells blood in the water, and it seems to be exclusively gunning for Apples latest ultra-thin laptops and iPads with devices sporting all-day batteries and ARM-based processors that boast … [+6871 chars]',\n",
       " 'Apple today introduced the Apple Pencil Pro with a new squeeze gesture, haptic feedback, Find My support, and more.\\r\\nApple Pencil Pro is compatible with the new iPad Pro and iPad Air models announced… [+181 chars]',\n",
       " 'The latest versions of the iPad Air and iPad Pro have effectively discontinued any Apple tablet with a headphone jack. I know, I know, that slow march away from dedicated audio jacks has been trendin… [+3722 chars]',\n",
       " 'This illustrated sci-fi saga from the creator of Tales From the Loop follows an orphaned teen who heads on a journey to find her missing brother, with the help of a robot companion and a drifter she … [+382 chars]',\n",
       " 'Apple today seeded the fourth beta of an upcoming watchOS 10.5 update to developers for testing purposes, with the beta coming a week after the release of the third beta.\\r\\nTo install the watchOS 10.5… [+571 chars]',\n",
       " 'With the 10th anniversary of the Apple Watch approaching, we thought it would be fun to take a look back at an interesting bit of Apple Watch history.\\r\\nAfter the Apple Watch was announced in 2014, an… [+3653 chars]',\n",
       " 'Apple this week debuted the Apple Pencil Pro, marking the first major revision to the \\u200cApple Pencil\\u200c lineup since the 2018 launch of the \\u200cApple Pencil\\u200c 2. There are some major changes that were intro… [+1982 chars]',\n",
       " \"Justin Sullivan/Getty Images; Apple; Chelsea Jia Feng/BI\\r\\n<ul><li>This post originally appeared in the Insider Today newsletter.</li><li>You can sign up for Business Insider's daily newsletter here.<… [+5207 chars]\",\n",
       " \"Nike Air Max 1 '86 sneakers.Apple.\\r\\n<ul><li>Apple announced new iPad products and accessories during an event on Tuesday.</li><li>Apple CEO Tim Cook donned Nike Air Max 1 '86s created, in part, using… [+1706 chars]\",\n",
       " 'A new British cybersecurity law mandates smart device manufacturers like Apple to enhance protections or face hefty penalties.\\r\\nThe legislation, known as the Product Security and Telecommunications I… [+1632 chars]',\n",
       " 'Apple today added refurbished iPhone 14, \\u200ciPhone 14\\u200c Plus, \\u200ciPhone 14\\u200c Pro, and \\u200ciPhone 14\\u200c Pro Max devices to its online store for refurbished products, offering the prior-generation iPhones at a di… [+1536 chars]',\n",
       " 'Apple today seeded the a second release candidate version of an upcoming watchOS 10.5 update to developers for testing purposes, with the beta coming a day after Apple seeded the firt RC.\\r\\nTo install… [+917 chars]',\n",
       " 'Apple has discontinued the iOS Developer University Program as of May 15, according to a notice on its website and an email sent to program members.\\r\\nThe program allowed university professors and oth… [+364 chars]',\n",
       " \"Good wireless headphone deals don't come along every day, and when they do, they don't often stick around. For a limited time, the Beats Studio Pro wireless headphones are $170 off at Best Buy, and p… [+1303 chars]\",\n",
       " 'A fines de febrero, Applemató el proyecto del Apple Car para centrarse en la inteligencia artificial. Y si bien parte de la tecnología desarrollada a lo largo de una década se reorientaría hacia otra… [+3173 chars]',\n",
       " 'Tal como se rumoreó hace unos días, Apple presentó el nuevo Apple Pencil Pro, la versión más reciente de su stylus para el iPad. Si bien las actualizaciones son parte de esta línea de productos, con … [+3286 chars]',\n",
       " 'Apple today published its second annual App Store Transparency Report [PDF], highlighting details like the number of apps that were rejected during the year, the number of customer and developer acco… [+1308 chars]',\n",
       " \"Apple has been soliciting Vision Pro feedback since the device launched, but this week, the company has picked up on sending out surveys. We've had several reports from Vision Pro customers who have … [+2768 chars]\",\n",
       " 'This week began with a sitewide sale on Samsung that will end this Sunday, and continued with great discounts on the M4 iPad Pro, 10th generation iPad, Apple Watch SE, and Apple Watch Ultra 2.\\r\\nNote:… [+2087 chars]',\n",
       " 'Apple today announced a new 10-day event counting down the 100 best albums of all time, as judged by Apple Music experts and a select group of artists. The event will see \\u200cApple Music\\u200c revealing 10 a… [+1595 chars]',\n",
       " \"Apple today updated Apple.com with a teaser for tomorrow's event, adding an interactive erasing feature that seems to hint at a refreshed version of the Apple Pencil.\\r\\nHovering over the Apple logo an… [+765 chars]\",\n",
       " \"Some Swift Student Challenge winners today began receiving congratulatory certificates from Apple, with one Distinguished Winner sharing a images of the letter he received from Apple.\\r\\nWe're honored … [+1075 chars]\"]"
      ]
     },
     "execution_count": 7,
     "metadata": {},
     "output_type": "execute_result"
    }
   ],
   "source": [
    "articulo"
   ]
  },
  {
   "cell_type": "code",
   "execution_count": 8,
   "metadata": {},
   "outputs": [
    {
     "data": {
      "text/plain": [
       "'its no secret that Apple has mastered the art of smoke and mirrors. When the company debuted the new iPad Pro, the flashy livestreamed keynoteand the hands-on event for media afterwardmade it seem as… [+2831 chars]'"
      ]
     },
     "execution_count": 8,
     "metadata": {},
     "output_type": "execute_result"
    }
   ],
   "source": [
    "articulo[7]"
   ]
  },
  {
   "cell_type": "code",
   "execution_count": 12,
   "metadata": {},
   "outputs": [],
   "source": [
    "import requests\n",
    "\n",
    "API_URL = \"https://api-inference.huggingface.co/models/facebook/bart-large-cnn\"\n",
    "headers = {\"Authorization\": f\"Bearer {bart_api_key}\"}\n",
    "\n",
    "def query(payload):\n",
    "\tresponse = requests.post(API_URL, headers=headers, json=payload)\n",
    "\treturn response.json()\n",
    "\t\n",
    "output = query({\n",
    "\t\"inputs\": articulo[7],\n",
    "})"
   ]
  },
  {
   "cell_type": "code",
   "execution_count": 13,
   "metadata": {},
   "outputs": [
    {
     "data": {
      "text/plain": [
       "[{'summary_text': \"Apple's new iPad Pro was unveiled at an event in Cupertino, California. The company held a livestreamed keynote and held a hands-on event for media afterward. The event was meant to be a showcase for the iPad Pro, but it was more of a PR stunt.\"}]"
      ]
     },
     "execution_count": 13,
     "metadata": {},
     "output_type": "execute_result"
    }
   ],
   "source": [
    "output"
   ]
  },
  {
   "cell_type": "code",
   "execution_count": 42,
   "metadata": {},
   "outputs": [],
   "source": [
    "resumen = output[0].get(\"summary_text\")"
   ]
  },
  {
   "cell_type": "code",
   "execution_count": 43,
   "metadata": {},
   "outputs": [
    {
     "data": {
      "text/html": [
       "<div style='border:1px solid black; padding:10px;'><h3>Resumen:</h3><p>Apple's new iPad Pro was unveiled at an event in Cupertino, California. The company held a livestreamed keynote and held a hands-on event for media afterward. The event was meant to be a showcase for the iPad Pro, but it was more of a PR stunt.</p><div style='margin-top:20px; color:gray;'><i>This selection and explanation have been generated by GPT-based generative AI based on the tested model results.</i></div></div>"
      ],
      "text/plain": [
       "<IPython.core.display.HTML object>"
      ]
     },
     "metadata": {},
     "output_type": "display_data"
    }
   ],
   "source": [
    "#Displaying results in good format\n",
    "from IPython.display import display, HTML\n",
    "\n",
    "# Formatting the output text\n",
    "model_output = f\"<h3>Resumen:</h3>\"\n",
    "conclusion_output = f\"<p>{resumen}</p>\"\n",
    "ai_notice = f\"<div style='margin-top:20px; color:gray;'><i>This selection and explanation have been generated by GPT-based generative AI based on the tested model results.</i></div>\"\n",
    "\n",
    "# Combining the format and displaying the output\n",
    "final_output = f\"<div style='border:1px solid black; padding:10px;'>{model_output}{conclusion_output}{ai_notice}</div>\"\n",
    "display(HTML(final_output))"
   ]
  }
 ],
 "metadata": {
  "kernelspec": {
   "display_name": "base",
   "language": "python",
   "name": "python3"
  },
  "language_info": {
   "codemirror_mode": {
    "name": "ipython",
    "version": 3
   },
   "file_extension": ".py",
   "mimetype": "text/x-python",
   "name": "python",
   "nbconvert_exporter": "python",
   "pygments_lexer": "ipython3",
   "version": "3.11.7"
  }
 },
 "nbformat": 4,
 "nbformat_minor": 2
}
