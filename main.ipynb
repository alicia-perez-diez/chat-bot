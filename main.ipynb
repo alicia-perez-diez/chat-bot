{
 "cells": [
  {
   "cell_type": "code",
   "execution_count": 1,
   "metadata": {},
   "outputs": [
    {
     "name": "stdout",
     "output_type": "stream",
     "text": [
      "Requirement already satisfied: requests in c:\\users\\germa\\anaconda3\\lib\\site-packages (2.31.0)\n",
      "Requirement already satisfied: flask in c:\\users\\germa\\anaconda3\\lib\\site-packages (2.2.5)\n",
      "Collecting openai\n",
      "  Downloading openai-1.30.3-py3-none-any.whl.metadata (21 kB)\n",
      "Requirement already satisfied: charset-normalizer<4,>=2 in c:\\users\\germa\\anaconda3\\lib\\site-packages (from requests) (2.0.4)\n",
      "Requirement already satisfied: idna<4,>=2.5 in c:\\users\\germa\\anaconda3\\lib\\site-packages (from requests) (3.4)\n",
      "Requirement already satisfied: urllib3<3,>=1.21.1 in c:\\users\\germa\\anaconda3\\lib\\site-packages (from requests) (2.0.7)\n",
      "Requirement already satisfied: certifi>=2017.4.17 in c:\\users\\germa\\anaconda3\\lib\\site-packages (from requests) (2024.2.2)\n",
      "Requirement already satisfied: Werkzeug>=2.2.2 in c:\\users\\germa\\anaconda3\\lib\\site-packages (from flask) (2.2.3)\n",
      "Requirement already satisfied: Jinja2>=3.0 in c:\\users\\germa\\anaconda3\\lib\\site-packages (from flask) (3.1.3)\n",
      "Requirement already satisfied: itsdangerous>=2.0 in c:\\users\\germa\\anaconda3\\lib\\site-packages (from flask) (2.0.1)\n",
      "Requirement already satisfied: click>=8.0 in c:\\users\\germa\\anaconda3\\lib\\site-packages (from flask) (8.1.7)\n",
      "Requirement already satisfied: anyio<5,>=3.5.0 in c:\\users\\germa\\anaconda3\\lib\\site-packages (from openai) (4.2.0)\n",
      "Requirement already satisfied: distro<2,>=1.7.0 in c:\\users\\germa\\anaconda3\\lib\\site-packages (from openai) (1.8.0)\n",
      "Requirement already satisfied: httpx<1,>=0.23.0 in c:\\users\\germa\\anaconda3\\lib\\site-packages (from openai) (0.26.0)\n",
      "Requirement already satisfied: pydantic<3,>=1.9.0 in c:\\users\\germa\\anaconda3\\lib\\site-packages (from openai) (1.10.12)\n",
      "Requirement already satisfied: sniffio in c:\\users\\germa\\anaconda3\\lib\\site-packages (from openai) (1.3.0)\n",
      "Requirement already satisfied: tqdm>4 in c:\\users\\germa\\anaconda3\\lib\\site-packages (from openai) (4.65.0)\n",
      "Requirement already satisfied: typing-extensions<5,>=4.7 in c:\\users\\germa\\anaconda3\\lib\\site-packages (from openai) (4.9.0)\n",
      "Requirement already satisfied: colorama in c:\\users\\germa\\anaconda3\\lib\\site-packages (from click>=8.0->flask) (0.4.6)\n",
      "Requirement already satisfied: httpcore==1.* in c:\\users\\germa\\anaconda3\\lib\\site-packages (from httpx<1,>=0.23.0->openai) (1.0.2)\n",
      "Requirement already satisfied: h11<0.15,>=0.13 in c:\\users\\germa\\anaconda3\\lib\\site-packages (from httpcore==1.*->httpx<1,>=0.23.0->openai) (0.14.0)\n",
      "Requirement already satisfied: MarkupSafe>=2.0 in c:\\users\\germa\\anaconda3\\lib\\site-packages (from Jinja2>=3.0->flask) (2.1.3)\n",
      "Downloading openai-1.30.3-py3-none-any.whl (320 kB)\n",
      "   ---------------------------------------- 0.0/320.6 kB ? eta -:--:--\n",
      "   ----- ---------------------------------- 41.0/320.6 kB 2.0 MB/s eta 0:00:01\n",
      "   ---------------------------------------  317.4/320.6 kB 5.0 MB/s eta 0:00:01\n",
      "   ---------------------------------------- 320.6/320.6 kB 4.0 MB/s eta 0:00:00\n",
      "Installing collected packages: openai\n",
      "Successfully installed openai-1.30.3\n"
     ]
    }
   ],
   "source": [
    "!pip install requests flask openai"
   ]
  },
  {
   "cell_type": "code",
   "execution_count": 18,
   "metadata": {},
   "outputs": [
    {
     "name": "stdout",
     "output_type": "stream",
     "text": [
      "Collecting openai==0.8.0\n",
      "  Downloading openai-0.8.0.tar.gz (147 kB)\n",
      "     ---------------------------------------- 0.0/147.6 kB ? eta -:--:--\n",
      "     ------- ----------------------------- 30.7/147.6 kB 660.6 kB/s eta 0:00:01\n",
      "     ----------------------------- -------- 112.6/147.6 kB 1.3 MB/s eta 0:00:01\n",
      "     -------------------------------------- 147.6/147.6 kB 1.5 MB/s eta 0:00:00\n",
      "  Preparing metadata (setup.py): started\n",
      "  Preparing metadata (setup.py): finished with status 'done'\n",
      "Requirement already satisfied: requests>=2.20 in c:\\users\\germa\\anaconda3\\lib\\site-packages (from openai==0.8.0) (2.31.0)\n",
      "Requirement already satisfied: tqdm in c:\\users\\germa\\anaconda3\\lib\\site-packages (from openai==0.8.0) (4.65.0)\n",
      "Requirement already satisfied: charset-normalizer<4,>=2 in c:\\users\\germa\\anaconda3\\lib\\site-packages (from requests>=2.20->openai==0.8.0) (2.0.4)\n",
      "Requirement already satisfied: idna<4,>=2.5 in c:\\users\\germa\\anaconda3\\lib\\site-packages (from requests>=2.20->openai==0.8.0) (3.4)\n",
      "Requirement already satisfied: urllib3<3,>=1.21.1 in c:\\users\\germa\\anaconda3\\lib\\site-packages (from requests>=2.20->openai==0.8.0) (2.0.7)\n",
      "Requirement already satisfied: certifi>=2017.4.17 in c:\\users\\germa\\anaconda3\\lib\\site-packages (from requests>=2.20->openai==0.8.0) (2024.2.2)\n",
      "Requirement already satisfied: colorama in c:\\users\\germa\\anaconda3\\lib\\site-packages (from tqdm->openai==0.8.0) (0.4.6)\n",
      "Building wheels for collected packages: openai\n",
      "  Building wheel for openai (setup.py): started\n",
      "  Building wheel for openai (setup.py): finished with status 'done'\n",
      "  Created wheel for openai: filename=openai-0.8.0-py3-none-any.whl size=158513 sha256=d1e4eb882bc318884f604035ac556a827daa465a10510701b814187df9b39a7b\n",
      "  Stored in directory: c:\\users\\germa\\appdata\\local\\pip\\cache\\wheels\\b0\\ee\\e4\\1c655b5981f8b055b6e431155eb8f8aa199de866c60aaba378\n",
      "Successfully built openai\n",
      "Installing collected packages: openai\n",
      "  Attempting uninstall: openai\n",
      "    Found existing installation: openai 0.25.0\n",
      "    Uninstalling openai-0.25.0:\n",
      "      Successfully uninstalled openai-0.25.0\n",
      "Successfully installed openai-0.8.0\n"
     ]
    }
   ],
   "source": [
    "!pip install openai==0.8.0"
   ]
  },
  {
   "cell_type": "code",
   "execution_count": 1,
   "metadata": {},
   "outputs": [],
   "source": [
    "import requests"
   ]
  },
  {
   "cell_type": "code",
   "execution_count": 2,
   "metadata": {},
   "outputs": [],
   "source": [
    "from dotenv import load_dotenv\n",
    "import os"
   ]
  },
  {
   "cell_type": "code",
   "execution_count": 3,
   "metadata": {},
   "outputs": [
    {
     "data": {
      "text/plain": [
       "True"
      ]
     },
     "execution_count": 3,
     "metadata": {},
     "output_type": "execute_result"
    }
   ],
   "source": [
    "load_dotenv('.env')"
   ]
  },
  {
   "cell_type": "code",
   "execution_count": 4,
   "metadata": {},
   "outputs": [],
   "source": [
    "bart_api_key = os.getenv('bart_api_key')"
   ]
  },
  {
   "cell_type": "code",
   "execution_count": 6,
   "metadata": {},
   "outputs": [],
   "source": [
    "# Configuración de las credenciales de la API de NewsAPI\n",
    "news_api_key = os.getenv('news_api_key')\n",
    "def get_news_articles(query, api_key=news_api_key):\n",
    "    url = f\"https://newsapi.org/v2/everything?q={query}&apiKey={api_key}\"\n",
    "    response = requests.get(url)\n",
    "    articles = response.json().get('articles', [])\n",
    "    return [article['content'] for article in articles if article['content']]"
   ]
  },
  {
   "cell_type": "code",
   "execution_count": 7,
   "metadata": {},
   "outputs": [],
   "source": [
    "articulo = get_news_articles(\"tesla\")"
   ]
  },
  {
   "cell_type": "code",
   "execution_count": 8,
   "metadata": {},
   "outputs": [
    {
     "data": {
      "text/plain": [
       "['[Removed]',\n",
       " 'A federal report published today found that Teslas Autopilot system was involved in at least 13 fatal crashes in which drivers misused the system in ways the automaker should have foreseenand done mo… [+3533 chars]',\n",
       " 'Elon Musk goes absolutely hard core in another round of Tesla layoffs\\r\\nElon Musk goes absolutely hard core in another round of Tesla layoffs\\r\\n / After laying off 10 percent of its global workforce th… [+2611 chars]',\n",
       " 'A Tesla owner in Ohio had a terrifying experience recently when his car tried to drive him right into a crossing train, according to multiple videos posted to the Tesla Motors Club forum. The vehicle… [+2134 chars]',\n",
       " 'Tesla announced Tuesday that it will lay off everyone who works on both the new vehicle and Supercharger teams. At this point, no one has any idea what CEO Elon Musk was thinking or whats going to ha… [+2620 chars]',\n",
       " 'After a social media video circulated showing the Tesla Cybertrucks frunk chopping veggies, we went through a week of idiots posting videos online to prove that the frunk was actually safe. Only then… [+2175 chars]',\n",
       " 'Hertz gambled and lost when it placed its big EV bet on Tesla a few years ago. It was a chance for the rental car company to shake up the industry, instead the company bought 30,000 Teslas, got scare… [+3239 chars]',\n",
       " \"If you click 'Accept all', we and our partners, including 238 who are part of the IAB Transparency &amp; Consent Framework, will also store and/or access information on a device (in other words, use … [+678 chars]\",\n",
       " 'The hits just keeponcoming with the Tesla Cybertruck. Yet another owner has reported having problems mere miles after picking up their brand new, low-resolution electric pickup. \\r\\nFirst spotted in a … [+2292 chars]',\n",
       " \"If you click 'Accept all', we and our partners, including 238 who are part of the IAB Transparency &amp; Consent Framework, will also store and/or access information on a device (in other words, use … [+678 chars]\",\n",
       " 'Elon Musk is visiting Beijing to discuss enabling autonomous driving mode on Tesla cars in China, according to media reports. \\r\\nMr Musk wants to enable Full Self Driving (FSD) in China and transfer d… [+2219 chars]',\n",
       " \"27\\r\\nThere's more bad news for Tesla. On Monday, we learned that CEO Elon Musk is continuing to slash his way through the company payroll as Tesla went through a fourth round of layoffs in four weeks.… [+2519 chars]\",\n",
       " '42\\r\\nNo car company in recent years has been able to generate more news headlines than Tesla. Its original founders were among the very first to realize that lithium-ion laptop cells were just about g… [+3717 chars]',\n",
       " 'Peter Hoskins,Business reporter\\r\\nTesla boss Elon Musk says he opposes US tariffs on Chinese electric vehicles (EVs), just days after President Joe Biden quadrupled levies on EVs imported from China.\\r… [+1961 chars]',\n",
       " 'Elon Musk has seen his personal wealth rise in recent days. Antonio Masiello/Getty\\r\\n<ul><li>Elon Musk has gained $36 billion in net worth over the last week, per Bloomberg.\\xa0</li><li>Musk is reaping t… [+2422 chars]',\n",
       " 'Newly completed Tesla Model Y electric cars stand at the new Tesla Gigafactory electric car manufacturing plant on March 25, 2022 near Gruenheide, Germany.Sean Gallup/Getty Images\\r\\n<ul><li>Tesla is o… [+2255 chars]',\n",
       " 'A group of Tesla investors is urging shareholders to oppose a $46 billion compensation plan proposed for CEO Elon Musk, stating that it was not in the best interests of the electric vehicle manufactu… [+2972 chars]',\n",
       " 'Tesla is reported to end support for Steam-delivered PC games in its latest Model S and Model X (pictured), which might strike some as odd considering Tesla automobiles are mainly used for transport … [+1585 chars]',\n",
       " 'After Elon Musk made a shock decision to let the full Tesla Supercharger team go, some of the almost 500-member-strong team are returning after being re-hired.\\r\\nAccording to people familiar with the … [+2232 chars]',\n",
       " 'Tesla has cleared key regulatory obstacles that had previously hindered the rollout of its self-driving software in China. This progress sets the stage for a favorable outcome following Elon Musk’s u… [+2244 chars]',\n",
       " 'Tesla posted a series of AI and Autopilot roles.ODD ANDERSEN/Getty Images\\r\\n<ul><li>Tesla is hiring for its Autopilot division following weeks of mass layoffs.</li><li>The automaker listed several eng… [+2166 chars]',\n",
       " 'A Tesla owner posted on a forum to warn others about closing the door.picture alliance/Getty\\r\\n<ul><li>A Tesla owner posted on a Cybertruck forum warning others to be careful closing the door.</li><li… [+2295 chars]',\n",
       " 'Close-up of the new Silverado EV WT plugged into a charging station.General Motors\\r\\n<ul><li>Chevrolet is ready for the new wave of EV customers.</li><li>The stalwart Detroit brand is ready to close t… [+3211 chars]',\n",
       " 'Tesla boss Elon Musk (L) walks with Shanghai Mayor Ying Yong during the ground-breaking ceremony for a Tesla factory in Shanghai on January 7, 2019.STR via Getty Images\\r\\n<ul><li>Tesla is facing an up… [+3594 chars]',\n",
       " \"Tesla CEO Elon Musk is looking to get his $55 billion pay package re-approved.Sebastian Gollnow/Getty Images\\r\\n<ul><li>Tesla is spending money on ads to promote Elon Musk's $55 billion pay plan.</li><… [+3064 chars]\",\n",
       " 'Tesla CEO Elon Musk told staff Tesla would cut more than 10% of its workforce.Nathan Howard and Justin Sullivan via Getty Images\\r\\n<ul><li>Tesla sent out another round of layoff notices on Sunday nigh… [+3542 chars]',\n",
       " 'Tesla has sent out layoff notices in waves in recent weeks.Mike Windle/Getty Images; Jenny Chang-Rodriguez/BI\\r\\n<ul><li>Elon Musk told staff on April 15 that Tesla planned to cut more than 10% of its … [+6829 chars]',\n",
       " 'Elon Musk told staff Tesla planned to cut more than 10% of its workforce in April.VCG/Getty\\r\\n<ul><li>Rich Otto, former head of product launches at Tesla, said he resigned last week.</li><li>The execu… [+1738 chars]',\n",
       " 'Tesla is walking back offers of employment for full time staff.Brandon Bell via Getty Images\\r\\n<ul><li>Tesla is rescinding job offers for incoming full-time employees.</li><li>The move is part of broa… [+2034 chars]',\n",
       " \"Six execs have left Tesla since layoffs started last month.VCG/Getty\\r\\n<ul><li>Since Tesla's layoffs announcement in mid-April, six known executives have left the company.</li><li>Some of the execs ha… [+4910 chars]\",\n",
       " 'Asana founder Dustin Moskovitz made a strong accusation against Tesla on Wednesday. Horacio Villalobos - Corbis/Getty Images\\r\\n<ul><li>Asana CEO Dustin Moskovitz lobbed one of his boldest claims again… [+4786 chars]',\n",
       " 'Mark Zuckerberg with Satya Nadella, Jensen Huang, Sundar Pichai, Andy Jassy, Tim Cook, and Elon Musk are CEOs of the \"Magnificent Seven.\"Getty Images\\r\\n<ul><li>The \"Magnificent Seven\" companies includ… [+5824 chars]',\n",
       " \"Tesla's Superchargers are known for being the best. Now the network's growth is in question at the worst possible time.Graham Rapier/Business Insider\\r\\n<ul><li>Tesla has laid off most of its charging … [+3456 chars]\",\n",
       " \"Elon Musk.Steve Granitz/FilmMagic via Getty Images\\r\\n<ul><li>Tesla's board urged shareholders in a video to vote for CEO Elon Musk's $47 billion pay package.</li><li>A Delaware court had canceled his … [+2744 chars]\",\n",
       " \"Elon Musk is CEO of Tesla.VCG/Getty\\r\\n<ul><li>Tesla staff are living in limbo as Elon Musk's job cuts continue.</li><li>The layoffs are likely to continue through at least June, Bloomberg reported.</l… [+2049 chars]\",\n",
       " \"Elon Musk is CEO of Tesla.Grzegorz Wajda/SOPA/Getty Images\\r\\n<ul><li>Elon Musk isn't done with Superchargers yet.</li><li>Despite firing Tesla's Supercharger team last week, the CEO committed to the n… [+3270 chars]\",\n",
       " 'Between 300 and 400 Tesla EVs are being stored outside Chesterfield Mall. Justin Sullivan/Getty\\r\\n<ul><li>Hundreds of\\xa0Teslas\\xa0are parked outside a mall in Missouri, including dozens of Cybertrucks.</li… [+3289 chars]',\n",
       " 'Elon Musk sent a late-night email on Monday saying the company is being \"absolutely hardcore\" about layoffs, according to a report from The Information.\\r\\nNow, the billionaire may be walking back what… [+1901 chars]',\n",
       " \"San Francisco's MUNI light rail in the city's Sunset District neighborhood.Lloyd Lee/BI\\r\\n<ul><li>Tesla tested its Full Self-Driving in San Francisco's Sunset District, The Information reported.</li><… [+6042 chars]\",\n",
       " 'Uber CEO Dara Khosrowshahi said that his company could play a key role in making self-driving taxis reality.Anushree Fadnavis/Reuters\\r\\n<ul><li>Tesla is trying to use its full self-driving technology … [+1740 chars]',\n",
       " 'Tesla is revoking summer internships.Sean Gallup/ Getty Images\\r\\n<ul><li>Tesla interns say their offers were revoked less than a month before they were set to start.</li><li>Two would-be interns poste… [+2341 chars]',\n",
       " 'A GM recruiter said the company is looking to hire interns that had their offers rescinded by Tesla.Anna Moneymaker/Getty Images and Anna Webber/Variety via Getty Images\\r\\n<ul><li>General Motors is se… [+2021 chars]',\n",
       " \"Tesla CEO Elon Musk.Getty Images\\r\\n<ul><li>The Department of Justice is investigating potential securities or wire fraud by Tesla, Reuters reported.</li><li>The probe reportedly centers on Tesla's pro… [+1936 chars]\",\n",
       " 'A Tesla car charging up at a Tesla Supercharger.Justin Sullivan via Getty Images\\r\\n<ul><li>Tesla is planning to rollout its robotaxis in China, state-owned newspaper China Daily reported.</li><li>Elon… [+2138 chars]',\n",
       " 'Tesla sales dipped by 7.8% in the first-quarter of 2024.Smith Collection/Gado/Getty\\r\\n<ul><li>Tesla registrations dropped again in California last quarter, according to a California Auto Outlook repor… [+3300 chars]',\n",
       " 'Tesla boss Elon Musk (L) walks with Shanghai Mayor Ying Yong during the ground-breaking ceremony for a Tesla factory in Shanghai on January 7, 2019.STR via Getty Images\\r\\n<ul><li>Elon Musk visits Chin… [+2572 chars]',\n",
       " \"Another executive is leaving Tesla.Frederic J. Brown/Getty\\r\\n<ul><li>Renjie Zhu, director of manufacturing engineering at Tesla's Austin Gigafactory, said he left the company.</li><li>The executive ca… [+2077 chars]\",\n",
       " 'Tesla\\'s market success relies on CEO Elon Musk\\'s ability to keep promising, irrelevant of what the company actually delivers, UC Berkeley economist J. Bradford DeLong thinks.\\r\\n\"From the standpoint of… [+2374 chars]',\n",
       " \"Tesla CEO Elon Musk said he was dissolving the company's Supercharger team last month.Beata Zawrzel/NurPhoto via Getty Images; Justin Sullivan/Getty Images)\\r\\n<ul><li>Tesla's Supercharger team was dec… [+3826 chars]\",\n",
       " '\"We need to be absolutely hard core about headcount and cost reduction,\" Elon Musk said in an email to Tesla\\'s senior executives on Monday, per The Information.Beata Zawrzel/NurPhoto via Getty Images… [+2255 chars]',\n",
       " \"The Ford F-150 Lightning (top left), Rivian R1T (top right), and Tesla Cybertruck (bottom).Getty\\r\\n<ul><li>Ford's F-150 Lightning was the most popular EV pickup in March, per\\xa0S&P Global Mobility data.… [+2017 chars]\",\n",
       " \"Elon Musk spoke at the VivaTech conference in Paris on Thursday.Apu Gomes via Getty Images\\r\\n<ul><li>Elon Musk said he wasn't involved in President Joe Biden's tariff on Chinese electric cars.</li><li… [+2108 chars]\",\n",
       " \"2019 Tesla Model S at a Supercharging Station.David Zalubowski/AP Photo\\r\\n<ul><li>The employees behind Tesla's Supercharging stations are being laid off, BI previously reported.</li><li>Musk said foll… [+3278 chars]\",\n",
       " 'Cybertruck owner Joseph Fay injured his finger after deliberately allowing the frunk to close on his finger.Joseph Fay\\r\\n<ul><li>A Tesla owner posted a video trying out the new Cybertruck frunk update… [+3698 chars]',\n",
       " 'Elon Musk, 52, is the owner of X and CEO of Tesla and SpaceX.Anna Webber/Variety/Getty Images\\r\\n<ul><li>Elon Musk has amassed a $198 billion fortune through his work at Tesla, SpaceX, and more.</li><l… [+6218 chars]',\n",
       " 'Tesla boss Elon Musk (L) walks with Shanghai Mayor Ying Yong during the ground-breaking ceremony for a Tesla factory in Shanghai on January 7, 2019.STR via Getty Images\\r\\n<ul>\\n<li>The Biden administra… [+1559 chars]',\n",
       " \"Renaissance Technologies bought 1 million GameStop shares last quarter.Reuters\\r\\n<ul><li>A top hedge fund built a GameStop stake from scratch last quarter ahead of the meme stock's surge.</li><li>Rena… [+2498 chars]\",\n",
       " \"The Microlino Lite. John Keeble/Getty Images\\r\\n<ul><li>Tiny EVs like the Nissan Sakura and BYD's Seagull are challenging Tesla in Japan and China.\\xa0</li><li>But these minuscule motors are unlikely to c… [+3974 chars]\",\n",
       " 'A group of Tesla Shareholders want Kimbal Musk and James Murdoch out as board members of the EV company.Chris Saucedo/Getty Images fpr SXSW // Steve Granitz/FilmMagic // Dia Dipasupil/Getty Images fo… [+2747 chars]',\n",
       " 'Elon Musk took a surprise trip to China over the weekend.Kevin Winter/Getty Images\\r\\n<ul><li>Elon Musk has moved closer to getting full self-driving technology approved in China, reports suggest.</li>… [+3582 chars]',\n",
       " 'Elon Musk.Tayfun Coskun/Anadolu via Getty Images\\r\\n<ul><li>Tesla is set to launch its robotaxi on August 8, 2024.</li><li>The date, Elon Musk says, was chosen partly because it is a\\xa0\"lucky number in C… [+2743 chars]',\n",
       " \"The BYD Seagull.VCG via Getty Images\\r\\n<ul><li>Chinese EV company BYD plans to introduce its bargain hatchback Seagull to Europe in 2025.</li><li>The car's base model sells for less than $10,000 in Ch… [+2929 chars]\",\n",
       " 'Elon Musk has gone \"hardcore\" again and it\\'s sending tremors through the EV industry.\\r\\nThe Information reported late Monday that Musk is laying off around 500 employees on its Supercharger team in a … [+2707 chars]',\n",
       " \"Tesla's update is available for the Model S and X made after 2021, and the upgraded Model 3.Brandon Bell/Getty\\r\\n<ul><li>Tesla's new update enables a hands-free trunk that opens when you stand behind … [+2028 chars]\",\n",
       " \"Tesla CEO Elon Musk.Anna Webber/Getty Images\\r\\n<ul>\\n<li>Tesla's stock price jumped 10% in Monday's premarket as traders reacted to Elon Musk's China trip.</li>\\n<li>Musk seems to have won key support f… [+2017 chars]\",\n",
       " \"Elon Musk.Tayfun Coskun/Anadolu via Getty Images\\r\\n<ul><li>Tesla is facing an uphill battle to get Elon Musk's $56 billion pay package approved, Tesla's chair said.</li><li>Robyn Denholm\\xa0told the Fina… [+2287 chars]\",\n",
       " 'If youve ever wondered what it would be like to own a vehicle from the Halo universe, if you cough up the cash required for Elon Musks Cybertruck, youll be able to at least be able to create somethin… [+1684 chars]',\n",
       " 'Elon Musk visited China in 2019, and, more recently, on a two-day trip.REUTERS/Aly Song\\r\\n<ul><li>Elon Musk just made a quick trip to China, where he met with senior officials and struck a deal.</li><… [+4668 chars]',\n",
       " \"A Tesla showroom and service center in Amsterdam.John Thys/AFP via Getty Images\\r\\n<ul><li>Tesla doesn't want its suppliers to make all of their stuff in China and Taiwan, per Nikkei Asia.</li><li>Supp… [+4022 chars]\",\n",
       " \"A fire broke out at Tesla's Fremont Factory Monday night.Steve Granitz/FilmMagic // Stephen Lam /Reuters\\r\\n<ul><li>Tesla's Fremont, California, plant suffered a 2-alarm commercial fire Monday evening.… [+2263 chars]\",\n",
       " \"A Tesla Model Y under construction at the Gigafactory in Grünheide, Germany, east of Berlin.Picture Alliance, Getty Images\\r\\n<ul><li>A Mexico Gigafactory could help boost Tesla's profit margins, but p… [+4259 chars]\",\n",
       " 'I drove a Tesla Cybertruck around Texas for three days and was surprised to find a handful of apparent oversights in its design, from a scary frunk mechanism to charging issues. Graham Rapier/Busines… [+7383 chars]',\n",
       " 'Once upon a time, musical Tesla coils were something you primarily saw at high-voltage hobby meets. They’ve become more popular in recent years, and now you can even buy cheap examples online. [mirce… [+1057 chars]',\n",
       " 'Teslas sprawling gigafactory in Fremont, California. - Photo: Justin Sullivan (Getty Images)\\r\\nTesla is a massive company, employing 140,000 people as of late last year. But over the past month, layof… [+3684 chars]',\n",
       " 'The Tesla Supercharger team, responsible for managing and developing electric vehicle charging stations throughout the United States, has been fired.\\r\\nTesla’s strategic charging programs lead William… [+2186 chars]',\n",
       " 'El software de conducción autónoma total (FSD, por sus siglas en inglés) de Tesla pronto estará disponible en China después de que la compañía cediera ante el Gobierno chino tras años de obstáculos r… [+2415 chars]',\n",
       " \"Sjoerd van der Wal/Getty\\r\\n<ul><li>A Tesla Model S driver told authorities he was using Autopilot when he fatally hit a motorcyclist last week.\\xa0</li><li>Feds this week questioned whether Tesla's Decem… [+2729 chars]\",\n",
       " 'Elon Musk reportedly emailed Tesla staff announcing hundreds of layoffs and reiterating the need to be \"absolutely hard core\" with cost cuts and staff reductions.Steve Granitz/Getty\\r\\n<ul><li>Elon Mus… [+2998 chars]',\n",
       " 'Nico Murillo was laid off from Tesla after five yearsNico Murillo\\r\\n<ul><li>Nico Murillo, a former Tesla production\\xa0supervisor, was laid off after five years at the company.</li><li>Murillo lived in h… [+3899 chars]',\n",
       " 'Elon Musk.Anna Webber/Variety/Getty Images\\r\\n<ul><li>Tesla CEO Elon Musk suggested Boeing has\\xa0\"too many\" non-technical managers.</li><li>Musk\\'s tweet comes hours before Boeing\\'s Starliner makes its fi… [+2558 chars]',\n",
       " 'Elon Musk is facing fierce competition in China from EV upstarts like BYD and Nio.LEON NEAL/Getty Images\\r\\n<ul><li>EV company Nio is launching a new affordable EV brand in China.\\xa0</li><li>Competitor B… [+2509 chars]',\n",
       " 'We’ve all seen a million videos online with singing Tesla coils doing their thang. [Zach Armstrong] wasn’t content to just watch, though. He went out and built one himself! Even better, he’s built a … [+935 chars]',\n",
       " \"A BYD 07 EV model electric car. BYD, a Chinese EV brand, remains one of Tesla's fiercest rivals in China.Pedro Pardo/AFP via Getty Images\\r\\n<ul><li>China's EV market has become increasingly competitiv… [+2360 chars]\",\n",
       " 'Today, the Biden administration announced a near-unprecedented 100 percent tariff on Chinese-made electric vehicles, a move the White House said would protect the American industry from unfairly pric… [+3401 chars]',\n",
       " '\"Last week, we reported on a customer who was charged $277 for gasoline his rented Tesla couldn\\'t have possibly used,\" writes the automotive blog The Drive.\"And now, we\\'ve heard from other Hertz cust… [+1741 chars]',\n",
       " 'Tesla ha vuelto a iniciar una nueva oleada de despidos semanas después de prescindir del 10 % de su plantilla a nivel global (unos 14.000 empleados). Según The Information, la compañía de movilidad d… [+3075 chars]',\n",
       " 'La Corte Suprema de los Estados Unidos asestó un golpe definitivo a Elon Musk. El máximo tribunal desechó una apelación del magnate que buscaba dejar sin efecto un acuerdo con la Comisión de Bolsa y … [+3363 chars]',\n",
       " \"If you click 'Accept all', we and our partners, including 238 who are part of the IAB Transparency &amp; Consent Framework, will also store and/or access information on a device (in other words, use … [+678 chars]\",\n",
       " \"If you click 'Accept all', we and our partners, including 237 who are part of the IAB Transparency &amp; Consent Framework, will also store and/or access information on a device (in other words, use … [+678 chars]\",\n",
       " 'A Tesla vehicle in Full-Self Driving mode appeared to fail to detect a moving train and stop on its own, leading to a chaotic accident depicted in a video that has been viewed millions of times on so… [+7106 chars]',\n",
       " 'A Tesla Cybertruck had to be helped out of the sand on Nantucket Island on May 2. iPullOut Beach Towing\\r\\n<ul><li>Tesla\\'s Cybertruck doesn\\'t appear as \"apocalypse-proof\" as Elon Musk first suggested.<… [+5656 chars]',\n",
       " 'The face of a man whos never been disowned by any of his kids for not accepting their identity - Photo: SONNY TUMBELAKA/AFP (Getty Images)\\r\\nElon Musk has recently become convinced that hisfloundering… [+3055 chars]',\n",
       " \"Electric vehicle charging station.Ratnakorn Piyasirisorost/ Getty Image\\r\\n<ul><li>It's not all bad news for electric vehicles these days, but it can seem like it.\\xa0</li><li>Automakers aren't likely to … [+3662 chars]\",\n",
       " 'China se está convirtiendo en un auténtico dolor de cabeza para los fabricantes de coches de occidente, pero, especialmente, para los fabricantes de coches eléctricos. La irrupción de las marcas de c… [+3359 chars]',\n",
       " 'A Chevrolet Equinox EV parked in a drivewayNora Naughton, Business Insider\\r\\n<ul><li>The Equinox EV is a solid addition to the electric crossover market.</li><li>I found that Super Cruise elevates the… [+4993 chars]',\n",
       " 'OpenAI CEO Sam Altman and Elon Musk.Getty Images\\r\\n<ul><li>Elon Musk is umimpressed with OpenAI\\'s new AI model.</li><li>The Tesla CEO said the company\\'s demo of its new AI model, GPT-4o \"made me cring… [+1751 chars]',\n",
       " 'VW...think about doing something with your heritage...\\r\\nHow about an electric Karmann Ghia? \\r\\nOr resurrect the old VW \"Thing\"...?\\r\\nI know the bug seems obvious....but I was thinking right now in the … [+317 chars]',\n",
       " \"If you click 'Accept all', we and our partners, including 237 who are part of the IAB Transparency &amp; Consent Framework, will also store and/or access information on a device (in other words, use … [+678 chars]\",\n",
       " \"Tesla makes camping accessories specifically designed to fit the Cybertruck, including the $2,975 Cybertent.SUZANNE CORDEIRO/AFP/Getty Images\\r\\n<ul><li>Tesla's Cybertruck Cybertent and other custom ac… [+4600 chars]\",\n",
       " 'Hemant Pandey joined Meta in 2021 after working at other tech firms.Hemant Pandey\\r\\n<ul><li>Hemant Pandey, a Meta senior software engineer, suggests exploring the job market every two years.</li><li>P… [+4367 chars]']"
      ]
     },
     "execution_count": 8,
     "metadata": {},
     "output_type": "execute_result"
    }
   ],
   "source": [
    "articulo"
   ]
  },
  {
   "cell_type": "code",
   "execution_count": 9,
   "metadata": {},
   "outputs": [
    {
     "data": {
      "text/plain": [
       "\"If you click 'Accept all', we and our partners, including 238 who are part of the IAB Transparency &amp; Consent Framework, will also store and/or access information on a device (in other words, use … [+678 chars]\""
      ]
     },
     "execution_count": 9,
     "metadata": {},
     "output_type": "execute_result"
    }
   ],
   "source": [
    "articulo[7]"
   ]
  },
  {
   "cell_type": "code",
   "execution_count": 14,
   "metadata": {},
   "outputs": [],
   "source": [
    "import requests\n",
    "\n",
    "API_URL = \"https://api-inference.huggingface.co/models/facebook/bart-large-cnn\"\n",
    "headers = {\"Authorization\": f\"Bearer {bart_api_key}\"}\n",
    "\n",
    "def query(payload):\n",
    "\tresponse = requests.post(API_URL, headers=headers, json=payload)\n",
    "\treturn response.json()\n",
    "\t\n",
    "output = query({\n",
    "\t\"inputs\": articulo[7],\n",
    "})"
   ]
  },
  {
   "cell_type": "code",
   "execution_count": 15,
   "metadata": {},
   "outputs": [
    {
     "data": {
      "text/plain": [
       "[{'summary_text': \"If you click 'Accept all', we and our partners, including 238 who are part of the IAB Transparency &amp; Consent Framework, will also store and/or access information on a device. If you click ‘Accept all’, we will use your information to help you make better decisions.\"}]"
      ]
     },
     "execution_count": 15,
     "metadata": {},
     "output_type": "execute_result"
    }
   ],
   "source": [
    "output"
   ]
  }
 ],
 "metadata": {
  "kernelspec": {
   "display_name": "base",
   "language": "python",
   "name": "python3"
  },
  "language_info": {
   "codemirror_mode": {
    "name": "ipython",
    "version": 3
   },
   "file_extension": ".py",
   "mimetype": "text/x-python",
   "name": "python",
   "nbconvert_exporter": "python",
   "pygments_lexer": "ipython3",
   "version": "3.11.7"
  }
 },
 "nbformat": 4,
 "nbformat_minor": 2
}
